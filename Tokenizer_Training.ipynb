{
  "cells": [
    {
      "cell_type": "code",
      "execution_count": null,
      "metadata": {
        "id": "AH75GkdZbvR7"
      },
      "outputs": [],
      "source": [
        "import os\n",
        "from tqdm import tqdm\n",
        "import pandas as pd\n",
        "import argparse\n",
        "from tokenizers import SentencePieceBPETokenizer\n",
        "from transformers import PreTrainedTokenizerFast\n",
        "import argparse\n",
        "import datetime\n",
        "import pandas as pd\n",
        "import numpy as np\n"
      ]
    },
    {
      "cell_type": "code",
      "execution_count": null,
      "metadata": {
        "colab": {
          "base_uri": "https://localhost:8080/"
        },
        "id": "f__OGczBB84Q",
        "outputId": "8ec6cfa1-83f6-4563-94f3-66bbcca2ef40"
      },
      "outputs": [
        {
          "name": "stdout",
          "output_type": "stream",
          "text": [
            "Mounted at /content/drive\n"
          ]
        }
      ],
      "source": [
        "from google.colab import drive\n",
        "drive.mount('/content/drive')"
      ]
    },
    {
      "cell_type": "code",
      "execution_count": null,
      "metadata": {
        "id": "hE1wgiJxn7Xf"
      },
      "outputs": [],
      "source": [
        "path = \"/content/drive/My Drive/Colab Notebooks/nlp_assignment2\""
      ]
    },
    {
      "cell_type": "code",
      "execution_count": null,
      "metadata": {
        "id": "oAvIF1k3cAtj"
      },
      "outputs": [],
      "source": [
        "def train_tokenizer(data_list, vocab_size=128000, model_name=\"Tokenizer3\"):\n",
        "\n",
        "    ## Change bos & eos\n",
        "    bos_tok = \"<sos>\"\n",
        "    eos_tok = \"<end_of_sen>\"\n",
        "\n",
        "    ## Add basic characters to this below list, including numbers & special language characters.\n",
        "    special_char = [\"0\", \"1\", \"2\", \"3\", \"4\", \"5\", \"6\", \"7\", \"8\", \"9\"]\n",
        "\n",
        "\n",
        "    tokenizer = SentencePieceBPETokenizer()\n",
        "\n",
        "    tokenizer.train_from_iterator(\n",
        "        data_list,\n",
        "        vocab_size = 128000,\n",
        "        min_frequency = 5,\n",
        "        special_tokens = [\"<pad>\", \"<unk>\", bos_tok, eos_tok, \"<user>\", \"<assistant>\"] + special_char,\n",
        "        show_progress = True,\n",
        "    )\n",
        "\n",
        "    ## Don't forget to add special tokens.\n",
        "    transformer_tokenizer = PreTrainedTokenizerFast(\n",
        "        tokenizer_object=tokenizer,\n",
        "        bos_token = bos_tok,\n",
        "        eos_token = eos_tok,\n",
        "        unk_token = \"<unk>\",\n",
        "        pad_token = \"<pad>\",\n",
        "        mask_token = \"<mask>\",\n",
        "        padding_side = \"left\",\n",
        "        truncation_side = \"right\",\n",
        "        additional_special_tokens = [\"<user>\", \"<assistant>\"],\n",
        "        clean_up_tokenization_spaces = False,\n",
        "    )\n",
        "\n",
        "    transformer_tokenizer.save_pretrained(os.path.join(path, model_name))"
      ]
    },
    {
      "cell_type": "code",
      "execution_count": null,
      "metadata": {
        "id": "9jCqtYSsiAJh"
      },
      "outputs": [],
      "source": [
        "df = pd.read_csv(os.path.join(path, \"sample_2.csv\"))\n"
      ]
    },
    {
      "cell_type": "code",
      "execution_count": null,
      "metadata": {
        "colab": {
          "base_uri": "https://localhost:8080/",
          "height": 206
        },
        "id": "BUzpkpgH_mrb",
        "outputId": "bf502cdd-ff01-453d-b36a-f4716f669091"
      },
      "outputs": [
        {
          "data": {
            "application/vnd.google.colaboratory.intrinsic+json": {
              "type": "dataframe",
              "variable_name": "df"
            },
            "text/html": [
              "\n",
              "  <div id=\"df-b9b1f517-b180-4679-9b3b-8a692aad422c\" class=\"colab-df-container\">\n",
              "    <div>\n",
              "<style scoped>\n",
              "    .dataframe tbody tr th:only-of-type {\n",
              "        vertical-align: middle;\n",
              "    }\n",
              "\n",
              "    .dataframe tbody tr th {\n",
              "        vertical-align: top;\n",
              "    }\n",
              "\n",
              "    .dataframe thead th {\n",
              "        text-align: right;\n",
              "    }\n",
              "</style>\n",
              "<table border=\"1\" class=\"dataframe\">\n",
              "  <thead>\n",
              "    <tr style=\"text-align: right;\">\n",
              "      <th></th>\n",
              "      <th>Unnamed: 0.1</th>\n",
              "      <th>source</th>\n",
              "      <th>filename</th>\n",
              "      <th>contents</th>\n",
              "    </tr>\n",
              "  </thead>\n",
              "  <tbody>\n",
              "    <tr>\n",
              "      <th>0</th>\n",
              "      <td>150029</td>\n",
              "      <td>marathi.indiatimes.com</td>\n",
              "      <td>6783ef748f4aa70a042bcb361c916d79a13ff169ce0575...</td>\n",
              "      <td>हिन्दी      महाराष्ट्र महाराष्ट्र विधानसभा निव...</td>\n",
              "    </tr>\n",
              "    <tr>\n",
              "      <th>1</th>\n",
              "      <td>1275975</td>\n",
              "      <td>rashtramat_articles</td>\n",
              "      <td>6612.txt</td>\n",
              "      <td>का झाली आपचे नेते अमित पालेकर यांना अटक?   : ब...</td>\n",
              "    </tr>\n",
              "    <tr>\n",
              "      <th>2</th>\n",
              "      <td>768089</td>\n",
              "      <td>esakal.com</td>\n",
              "      <td>7ae5301012d937c838b23d08b35e34db5dfa8134f87ba4...</td>\n",
              "      <td>...</td>\n",
              "    </tr>\n",
              "    <tr>\n",
              "      <th>3</th>\n",
              "      <td>810594</td>\n",
              "      <td>esakal.com</td>\n",
              "      <td>86ac9f9c64063d66a4ae7f7c63524548ca562bab2b939c...</td>\n",
              "      <td>...</td>\n",
              "    </tr>\n",
              "    <tr>\n",
              "      <th>4</th>\n",
              "      <td>1434929</td>\n",
              "      <td>zeenews.india.com</td>\n",
              "      <td>ec92e8209c19ceeba0707436b737ff872196630f37da63...</td>\n",
              "      <td>...</td>\n",
              "    </tr>\n",
              "  </tbody>\n",
              "</table>\n",
              "</div>\n",
              "    <div class=\"colab-df-buttons\">\n",
              "\n",
              "  <div class=\"colab-df-container\">\n",
              "    <button class=\"colab-df-convert\" onclick=\"convertToInteractive('df-b9b1f517-b180-4679-9b3b-8a692aad422c')\"\n",
              "            title=\"Convert this dataframe to an interactive table.\"\n",
              "            style=\"display:none;\">\n",
              "\n",
              "  <svg xmlns=\"http://www.w3.org/2000/svg\" height=\"24px\" viewBox=\"0 -960 960 960\">\n",
              "    <path d=\"M120-120v-720h720v720H120Zm60-500h600v-160H180v160Zm220 220h160v-160H400v160Zm0 220h160v-160H400v160ZM180-400h160v-160H180v160Zm440 0h160v-160H620v160ZM180-180h160v-160H180v160Zm440 0h160v-160H620v160Z\"/>\n",
              "  </svg>\n",
              "    </button>\n",
              "\n",
              "  <style>\n",
              "    .colab-df-container {\n",
              "      display:flex;\n",
              "      gap: 12px;\n",
              "    }\n",
              "\n",
              "    .colab-df-convert {\n",
              "      background-color: #E8F0FE;\n",
              "      border: none;\n",
              "      border-radius: 50%;\n",
              "      cursor: pointer;\n",
              "      display: none;\n",
              "      fill: #1967D2;\n",
              "      height: 32px;\n",
              "      padding: 0 0 0 0;\n",
              "      width: 32px;\n",
              "    }\n",
              "\n",
              "    .colab-df-convert:hover {\n",
              "      background-color: #E2EBFA;\n",
              "      box-shadow: 0px 1px 2px rgba(60, 64, 67, 0.3), 0px 1px 3px 1px rgba(60, 64, 67, 0.15);\n",
              "      fill: #174EA6;\n",
              "    }\n",
              "\n",
              "    .colab-df-buttons div {\n",
              "      margin-bottom: 4px;\n",
              "    }\n",
              "\n",
              "    [theme=dark] .colab-df-convert {\n",
              "      background-color: #3B4455;\n",
              "      fill: #D2E3FC;\n",
              "    }\n",
              "\n",
              "    [theme=dark] .colab-df-convert:hover {\n",
              "      background-color: #434B5C;\n",
              "      box-shadow: 0px 1px 3px 1px rgba(0, 0, 0, 0.15);\n",
              "      filter: drop-shadow(0px 1px 2px rgba(0, 0, 0, 0.3));\n",
              "      fill: #FFFFFF;\n",
              "    }\n",
              "  </style>\n",
              "\n",
              "    <script>\n",
              "      const buttonEl =\n",
              "        document.querySelector('#df-b9b1f517-b180-4679-9b3b-8a692aad422c button.colab-df-convert');\n",
              "      buttonEl.style.display =\n",
              "        google.colab.kernel.accessAllowed ? 'block' : 'none';\n",
              "\n",
              "      async function convertToInteractive(key) {\n",
              "        const element = document.querySelector('#df-b9b1f517-b180-4679-9b3b-8a692aad422c');\n",
              "        const dataTable =\n",
              "          await google.colab.kernel.invokeFunction('convertToInteractive',\n",
              "                                                    [key], {});\n",
              "        if (!dataTable) return;\n",
              "\n",
              "        const docLinkHtml = 'Like what you see? Visit the ' +\n",
              "          '<a target=\"_blank\" href=https://colab.research.google.com/notebooks/data_table.ipynb>data table notebook</a>'\n",
              "          + ' to learn more about interactive tables.';\n",
              "        element.innerHTML = '';\n",
              "        dataTable['output_type'] = 'display_data';\n",
              "        await google.colab.output.renderOutput(dataTable, element);\n",
              "        const docLink = document.createElement('div');\n",
              "        docLink.innerHTML = docLinkHtml;\n",
              "        element.appendChild(docLink);\n",
              "      }\n",
              "    </script>\n",
              "  </div>\n",
              "\n",
              "\n",
              "<div id=\"df-1ab31500-e239-4cb1-8215-582818baa1f3\">\n",
              "  <button class=\"colab-df-quickchart\" onclick=\"quickchart('df-1ab31500-e239-4cb1-8215-582818baa1f3')\"\n",
              "            title=\"Suggest charts\"\n",
              "            style=\"display:none;\">\n",
              "\n",
              "<svg xmlns=\"http://www.w3.org/2000/svg\" height=\"24px\"viewBox=\"0 0 24 24\"\n",
              "     width=\"24px\">\n",
              "    <g>\n",
              "        <path d=\"M19 3H5c-1.1 0-2 .9-2 2v14c0 1.1.9 2 2 2h14c1.1 0 2-.9 2-2V5c0-1.1-.9-2-2-2zM9 17H7v-7h2v7zm4 0h-2V7h2v10zm4 0h-2v-4h2v4z\"/>\n",
              "    </g>\n",
              "</svg>\n",
              "  </button>\n",
              "\n",
              "<style>\n",
              "  .colab-df-quickchart {\n",
              "      --bg-color: #E8F0FE;\n",
              "      --fill-color: #1967D2;\n",
              "      --hover-bg-color: #E2EBFA;\n",
              "      --hover-fill-color: #174EA6;\n",
              "      --disabled-fill-color: #AAA;\n",
              "      --disabled-bg-color: #DDD;\n",
              "  }\n",
              "\n",
              "  [theme=dark] .colab-df-quickchart {\n",
              "      --bg-color: #3B4455;\n",
              "      --fill-color: #D2E3FC;\n",
              "      --hover-bg-color: #434B5C;\n",
              "      --hover-fill-color: #FFFFFF;\n",
              "      --disabled-bg-color: #3B4455;\n",
              "      --disabled-fill-color: #666;\n",
              "  }\n",
              "\n",
              "  .colab-df-quickchart {\n",
              "    background-color: var(--bg-color);\n",
              "    border: none;\n",
              "    border-radius: 50%;\n",
              "    cursor: pointer;\n",
              "    display: none;\n",
              "    fill: var(--fill-color);\n",
              "    height: 32px;\n",
              "    padding: 0;\n",
              "    width: 32px;\n",
              "  }\n",
              "\n",
              "  .colab-df-quickchart:hover {\n",
              "    background-color: var(--hover-bg-color);\n",
              "    box-shadow: 0 1px 2px rgba(60, 64, 67, 0.3), 0 1px 3px 1px rgba(60, 64, 67, 0.15);\n",
              "    fill: var(--button-hover-fill-color);\n",
              "  }\n",
              "\n",
              "  .colab-df-quickchart-complete:disabled,\n",
              "  .colab-df-quickchart-complete:disabled:hover {\n",
              "    background-color: var(--disabled-bg-color);\n",
              "    fill: var(--disabled-fill-color);\n",
              "    box-shadow: none;\n",
              "  }\n",
              "\n",
              "  .colab-df-spinner {\n",
              "    border: 2px solid var(--fill-color);\n",
              "    border-color: transparent;\n",
              "    border-bottom-color: var(--fill-color);\n",
              "    animation:\n",
              "      spin 1s steps(1) infinite;\n",
              "  }\n",
              "\n",
              "  @keyframes spin {\n",
              "    0% {\n",
              "      border-color: transparent;\n",
              "      border-bottom-color: var(--fill-color);\n",
              "      border-left-color: var(--fill-color);\n",
              "    }\n",
              "    20% {\n",
              "      border-color: transparent;\n",
              "      border-left-color: var(--fill-color);\n",
              "      border-top-color: var(--fill-color);\n",
              "    }\n",
              "    30% {\n",
              "      border-color: transparent;\n",
              "      border-left-color: var(--fill-color);\n",
              "      border-top-color: var(--fill-color);\n",
              "      border-right-color: var(--fill-color);\n",
              "    }\n",
              "    40% {\n",
              "      border-color: transparent;\n",
              "      border-right-color: var(--fill-color);\n",
              "      border-top-color: var(--fill-color);\n",
              "    }\n",
              "    60% {\n",
              "      border-color: transparent;\n",
              "      border-right-color: var(--fill-color);\n",
              "    }\n",
              "    80% {\n",
              "      border-color: transparent;\n",
              "      border-right-color: var(--fill-color);\n",
              "      border-bottom-color: var(--fill-color);\n",
              "    }\n",
              "    90% {\n",
              "      border-color: transparent;\n",
              "      border-bottom-color: var(--fill-color);\n",
              "    }\n",
              "  }\n",
              "</style>\n",
              "\n",
              "  <script>\n",
              "    async function quickchart(key) {\n",
              "      const quickchartButtonEl =\n",
              "        document.querySelector('#' + key + ' button');\n",
              "      quickchartButtonEl.disabled = true;  // To prevent multiple clicks.\n",
              "      quickchartButtonEl.classList.add('colab-df-spinner');\n",
              "      try {\n",
              "        const charts = await google.colab.kernel.invokeFunction(\n",
              "            'suggestCharts', [key], {});\n",
              "      } catch (error) {\n",
              "        console.error('Error during call to suggestCharts:', error);\n",
              "      }\n",
              "      quickchartButtonEl.classList.remove('colab-df-spinner');\n",
              "      quickchartButtonEl.classList.add('colab-df-quickchart-complete');\n",
              "    }\n",
              "    (() => {\n",
              "      let quickchartButtonEl =\n",
              "        document.querySelector('#df-1ab31500-e239-4cb1-8215-582818baa1f3 button');\n",
              "      quickchartButtonEl.style.display =\n",
              "        google.colab.kernel.accessAllowed ? 'block' : 'none';\n",
              "    })();\n",
              "  </script>\n",
              "</div>\n",
              "\n",
              "    </div>\n",
              "  </div>\n"
            ],
            "text/plain": [
              "   Unnamed: 0.1                  source  \\\n",
              "0        150029  marathi.indiatimes.com   \n",
              "1       1275975     rashtramat_articles   \n",
              "2        768089              esakal.com   \n",
              "3        810594              esakal.com   \n",
              "4       1434929       zeenews.india.com   \n",
              "\n",
              "                                            filename  \\\n",
              "0  6783ef748f4aa70a042bcb361c916d79a13ff169ce0575...   \n",
              "1                                           6612.txt   \n",
              "2  7ae5301012d937c838b23d08b35e34db5dfa8134f87ba4...   \n",
              "3  86ac9f9c64063d66a4ae7f7c63524548ca562bab2b939c...   \n",
              "4  ec92e8209c19ceeba0707436b737ff872196630f37da63...   \n",
              "\n",
              "                                            contents  \n",
              "0  हिन्दी      महाराष्ट्र महाराष्ट्र विधानसभा निव...  \n",
              "1  का झाली आपचे नेते अमित पालेकर यांना अटक?   : ब...  \n",
              "2                                                ...  \n",
              "3                                                ...  \n",
              "4                                                ...  "
            ]
          },
          "execution_count": 5,
          "metadata": {},
          "output_type": "execute_result"
        }
      ],
      "source": [
        "df.head()"
      ]
    },
    {
      "cell_type": "code",
      "execution_count": null,
      "metadata": {
        "colab": {
          "base_uri": "https://localhost:8080/"
        },
        "id": "RTS3LE5sgar4",
        "outputId": "45d27ac7-8c3b-4e2d-98a5-7739f48f5921"
      },
      "outputs": [
        {
          "data": {
            "text/plain": [
              "289934"
            ]
          },
          "execution_count": 6,
          "metadata": {},
          "output_type": "execute_result"
        }
      ],
      "source": [
        "len(df[\"contents\"].to_list())"
      ]
    },
    {
      "cell_type": "code",
      "execution_count": null,
      "metadata": {
        "id": "vUkD5EYQb_-T"
      },
      "outputs": [],
      "source": [
        "### Executing Training Function to Train tokenizer\n",
        "train_tokenizer(df[\"contents\"].astype(str).to_list())"
      ]
    },
    {
      "cell_type": "code",
      "execution_count": null,
      "metadata": {
        "id": "B5hXC4FmojEH"
      },
      "outputs": [],
      "source": []
    },
    {
      "cell_type": "code",
      "execution_count": null,
      "metadata": {
        "id": "EjK5BG9G7C5_"
      },
      "outputs": [],
      "source": [
        "### Testing Training Tokenizer\n",
        "from transformers import AutoTokenizer"
      ]
    },
    {
      "cell_type": "code",
      "execution_count": null,
      "metadata": {
        "id": "ar8CiV_F7EVD"
      },
      "outputs": [],
      "source": [
        "## Load Tokenizers\n",
        "\n",
        "tokenizer1 = AutoTokenizer.from_pretrained(os.path.join(path, \"Tokenizer1\"))\n",
        "tokenizer2 = AutoTokenizer.from_pretrained(os.path.join(path, \"Tokenizer2\"))\n",
        "tokenizer3 = AutoTokenizer.from_pretrained(os.path.join(path, \"Tokenizer3\"))\n",
        "tokenizer4 = AutoTokenizer.from_pretrained(os.path.join(path, \"Tokenizer4\"))\n",
        "tokenizer5 = AutoTokenizer.from_pretrained(os.path.join(path, \"Tokenizer5\"))\n"
      ]
    },
    {
      "cell_type": "code",
      "execution_count": null,
      "metadata": {
        "id": "-FjIwajwDIZY"
      },
      "outputs": [],
      "source": [
        "## test Data\n",
        "\n",
        "\n",
        "\n",
        "df = pd.read_csv(os.path.join(path, \"test_sample.csv\"))"
      ]
    },
    {
      "cell_type": "code",
      "execution_count": null,
      "metadata": {
        "id": "NnZzGt-LHVji"
      },
      "outputs": [],
      "source": [
        "test_list = df[\"contents\"].to_list()\n",
        "test_list = test_list[:1000]"
      ]
    },
    {
      "cell_type": "code",
      "execution_count": null,
      "metadata": {
        "id": "JOazBR5r-Amh"
      },
      "outputs": [],
      "source": []
    },
    {
      "cell_type": "code",
      "execution_count": null,
      "metadata": {
        "colab": {
          "base_uri": "https://localhost:8080/"
        },
        "id": "foN2dCNB7KfB",
        "outputId": "1756c83a-6988-4c3f-eaeb-3c761b803b8f"
      },
      "outputs": [
        {
          "name": "stdout",
          "output_type": "stream",
          "text": [
            "128001\n",
            "128001\n",
            "128001\n",
            "128001\n",
            "128001\n"
          ]
        }
      ],
      "source": [
        "print(len(tokenizer1.get_vocab()))\n",
        "print(len(tokenizer2.get_vocab()))\n",
        "print(len(tokenizer3.get_vocab()))\n",
        "print(len(tokenizer4.get_vocab()))\n",
        "print(len(tokenizer5.get_vocab()))"
      ]
    },
    {
      "cell_type": "code",
      "execution_count": null,
      "metadata": {
        "colab": {
          "base_uri": "https://localhost:8080/"
        },
        "collapsed": true,
        "id": "W7AqAV_g7NlA",
        "outputId": "2d992a8f-6da9-4bf4-8b60-274826a93935"
      },
      "outputs": [
        {
          "output_type": "stream",
          "name": "stderr",
          "text": [
            "100%|██████████| 1000/1000 [00:21<00:00, 46.47it/s]\n"
          ]
        }
      ],
      "source": [
        "input_ids1= []\n",
        "input_ids2= []\n",
        "input_ids3= []\n",
        "input_ids4= []\n",
        "input_ids5= []\n",
        "\n",
        "for text in tqdm(test_list):\n",
        "  text = str(text)\n",
        "  input_ids1.append(tokenizer1.encode(text))\n",
        "  input_ids2.append(tokenizer2.encode(text))\n",
        "  input_ids3.append(tokenizer3.encode(text))\n",
        "  input_ids4.append(tokenizer4.encode(text))\n",
        "  input_ids5.append(tokenizer5.encode(text))\n",
        "\n",
        "# print(input_ids1)\n",
        "# print(input_ids2)\n",
        "# print(input_ids3)\n",
        "# print(input_ids4)\n",
        "# print(input_ids5)\n"
      ]
    },
    {
      "cell_type": "code",
      "execution_count": null,
      "metadata": {
        "id": "Xow-zJt1_PFo"
      },
      "outputs": [],
      "source": [
        "no_of_words = 0\n",
        "for i in test_list:\n",
        "   i = str(i)\n",
        "   no_of_words += len(i.split(\" \"))"
      ]
    },
    {
      "cell_type": "code",
      "source": [
        "no_of_words"
      ],
      "metadata": {
        "colab": {
          "base_uri": "https://localhost:8080/"
        },
        "id": "1uhNX1FQAVgB",
        "outputId": "7d0e37ad-e744-4606-ea29-d796b4969b16"
      },
      "execution_count": null,
      "outputs": [
        {
          "output_type": "execute_result",
          "data": {
            "text/plain": [
              "813889"
            ]
          },
          "metadata": {},
          "execution_count": 22
        }
      ]
    },
    {
      "cell_type": "code",
      "execution_count": null,
      "metadata": {
        "id": "IWKKDPEb7SZF"
      },
      "outputs": [],
      "source": [
        "# input_text = \"तुम्ही लोकांना बऱ्याच वेळा नाही म्हणू इच्छित असाल.\".split(\" \")\n",
        "# word_count  = len(input_text)"
      ]
    },
    {
      "cell_type": "code",
      "source": [
        "sum(len(i) for i in input_ids1)"
      ],
      "metadata": {
        "colab": {
          "base_uri": "https://localhost:8080/"
        },
        "id": "hw8enrWSAsih",
        "outputId": "e4135d64-4964-4d76-e675-f2d61b7d4f22"
      },
      "execution_count": null,
      "outputs": [
        {
          "output_type": "execute_result",
          "data": {
            "text/plain": [
              "841817"
            ]
          },
          "metadata": {},
          "execution_count": 26
        }
      ]
    },
    {
      "cell_type": "code",
      "execution_count": null,
      "metadata": {
        "colab": {
          "base_uri": "https://localhost:8080/"
        },
        "id": "dVsJf3Ja7dlS",
        "outputId": "310c62b2-72c9-4fbc-fc64-1c2d8f367841"
      },
      "outputs": [
        {
          "output_type": "stream",
          "name": "stdout",
          "text": [
            "Fertility Score of tokenizer1: 1.0343142615270633\n",
            "Fertility Score of tokenizer2: 1.0342307120504148\n",
            "Fertility Score of tokenizer3: 1.0341533059176373\n",
            "Fertility Score of tokenizer4: 1.0341987666622845\n",
            "Fertility Score of tokenizer5: 1.0341545345864116\n"
          ]
        }
      ],
      "source": [
        "\n",
        "## Fertility Score calculations for all five tokenizers\n",
        "\n",
        "fertility1 = sum(len(i) for i in input_ids1) / no_of_words\n",
        "fertility2 = sum(len(i) for i in input_ids2) / no_of_words\n",
        "fertility3 = sum(len(i) for i in input_ids3) / no_of_words\n",
        "fertility4 = sum(len(i) for i in input_ids4) / no_of_words\n",
        "fertility5 = sum(len(i) for i in input_ids5) / no_of_words\n",
        "\n",
        "\n",
        "\n",
        "print(f\"Fertility Score of tokenizer1: {fertility1}\")\n",
        "print(f\"Fertility Score of tokenizer2: {fertility2}\")\n",
        "print(f\"Fertility Score of tokenizer3: {fertility3}\")\n",
        "print(f\"Fertility Score of tokenizer4: {fertility4}\")\n",
        "print(f\"Fertility Score of tokenizer5: {fertility5}\")\n"
      ]
    },
    {
      "cell_type": "code",
      "execution_count": null,
      "metadata": {
        "id": "W0k_HPoB8Nyx"
      },
      "outputs": [],
      "source": []
    },
    {
      "cell_type": "code",
      "execution_count": null,
      "metadata": {
        "id": "4PrhgnFA8NvV"
      },
      "outputs": [],
      "source": []
    },
    {
      "cell_type": "code",
      "execution_count": null,
      "metadata": {
        "id": "5vcyjde88Nsa"
      },
      "outputs": [],
      "source": []
    },
    {
      "cell_type": "code",
      "execution_count": null,
      "metadata": {
        "id": "l-zDJPQt8No3"
      },
      "outputs": [],
      "source": []
    },
    {
      "cell_type": "code",
      "execution_count": null,
      "metadata": {
        "id": "DX--lezn8Nls"
      },
      "outputs": [],
      "source": [
        "input = \"Hi, how are you?\"\n",
        "input"
      ]
    },
    {
      "cell_type": "code",
      "execution_count": null,
      "metadata": {
        "id": "h5zjk8IA8PCL"
      },
      "outputs": [],
      "source": [
        "pre_pro = \"<bos><user>Hi, how are you?<asisstant>\"\n",
        "pre_pro"
      ]
    },
    {
      "cell_type": "code",
      "execution_count": null,
      "metadata": {
        "id": "H89LEQ_78TuG"
      },
      "outputs": [],
      "source": [
        "final_reply = \"<bos>Hi, how are you? I am great!<eos>\""
      ]
    },
    {
      "cell_type": "code",
      "execution_count": null,
      "metadata": {
        "id": "62SuQj_e8VV6"
      },
      "outputs": [],
      "source": []
    }
  ],
  "metadata": {
    "colab": {
      "provenance": []
    },
    "kernelspec": {
      "display_name": "Python 3",
      "name": "python3"
    },
    "language_info": {
      "name": "python"
    }
  },
  "nbformat": 4,
  "nbformat_minor": 0
}